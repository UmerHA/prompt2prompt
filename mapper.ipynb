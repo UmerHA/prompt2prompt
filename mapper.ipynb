{
 "cells": [
  {
   "cell_type": "code",
   "execution_count": 1,
   "id": "6d454fc2-e322-4e82-863e-4074d198afe3",
   "metadata": {},
   "outputs": [],
   "source": [
    "!pip install -Uqq fastcore accelerate transformers diffusers"
   ]
  },
  {
   "cell_type": "code",
   "execution_count": 2,
   "id": "412f8fa3-7620-4ae2-b323-1f497f643e3a",
   "metadata": {},
   "outputs": [],
   "source": [
    "from transformers import CLIPTextModel, CLIPTokenizer\n",
    "import torch\n",
    "import numpy as np\n",
    "from fastcore.all import *"
   ]
  },
  {
   "cell_type": "markdown",
   "id": "b052be3c-83b4-476d-95d4-b65be3128e3c",
   "metadata": {},
   "source": [
    "We want to see the shape & structure of the mapper matrices, and don't care about details. So set `precision=1`."
   ]
  },
  {
   "cell_type": "code",
   "execution_count": 3,
   "id": "68fa574f-6316-4f57-9106-fe694be66783",
   "metadata": {},
   "outputs": [],
   "source": [
    "np.set_printoptions(precision=1, linewidth=140)\n",
    "torch.set_printoptions(precision=1, linewidth=140, sci_mode=False)"
   ]
  },
  {
   "cell_type": "code",
   "execution_count": 4,
   "id": "77dd6488-c196-4a26-8605-1566ad91dbb2",
   "metadata": {},
   "outputs": [],
   "source": [
    "tokenizer = CLIPTokenizer.from_pretrained('openai/clip-vit-large-patch14', torch_dtype=torch.float16)"
   ]
  },
  {
   "cell_type": "code",
   "execution_count": 5,
   "id": "01b84640-99db-4711-a9e0-c4a5186bea6c",
   "metadata": {},
   "outputs": [],
   "source": [
    "max_len = 10"
   ]
  },
  {
   "cell_type": "code",
   "execution_count": 6,
   "id": "08c8cce8-426c-48b9-aa26-5dde59d58b92",
   "metadata": {},
   "outputs": [],
   "source": [
    "def get_word_inds(text: str, word_place: int, tokenizer):\n",
    "    split_text = text.split(\" \")\n",
    "    if type(word_place) is str: word_place = [i for i, word in enumerate(split_text) if word_place == word]\n",
    "    elif type(word_place) is int: word_place = [word_place]\n",
    "    out = []\n",
    "    if len(word_place) > 0:\n",
    "        words_encode = [tokenizer.decode([item]).strip(\"#\") for item in tokenizer.encode(text)][1:-1]\n",
    "        cur_len, ptr = 0, 0\n",
    "\n",
    "        for i in range(len(words_encode)):\n",
    "            cur_len += len(words_encode[i])\n",
    "            if ptr in word_place: out.append(i + 1)\n",
    "            if cur_len >= len(split_text[ptr]):\n",
    "                ptr += 1\n",
    "                cur_len = 0\n",
    "    return np.array(out)"
   ]
  },
  {
   "cell_type": "code",
   "execution_count": 7,
   "id": "fe739a3f-62c1-4cef-9ac8-abe6e71516b1",
   "metadata": {},
   "outputs": [],
   "source": [
    "def get_replacement_mapper(x: str, y: str, tokenizer=tokenizer, max_len=max_len):\n",
    "    \"\"\"Mapper by Weifei Chen\"\"\"\n",
    "    words_x,words_y = x.split(' '), y.split(' ')\n",
    "    if len(words_x) != len(words_y): raise ValueError(f\"Prompts need same lengths, but are {len(words_x)} and {len(words_y)} words.\")\n",
    "    inds_replace = [i for i in range(len(words_y)) if words_y[i] != words_x[i]]\n",
    "    inds_source = [get_word_inds(x, i, tokenizer) for i in inds_replace]\n",
    "    inds_target = [get_word_inds(y, i, tokenizer) for i in inds_replace]\n",
    "    mapper = np.zeros((max_len, max_len))\n",
    "    i = j = 0\n",
    "    cur_inds = 0\n",
    "    while i < max_len and j < max_len:\n",
    "        if cur_inds < len(inds_source) and inds_source[cur_inds][0] == i:\n",
    "            inds_source_, inds_target_ = inds_source[cur_inds], inds_target[cur_inds]\n",
    "            if len(inds_source_) == len(inds_target_):\n",
    "                mapper[inds_source_, inds_target_] = 1\n",
    "            else:\n",
    "                ratio = 1 / len(inds_target_)\n",
    "                for i_t in inds_target_: mapper[inds_source_, i_t] = ratio                \n",
    "            cur_inds += 1\n",
    "            i += len(inds_source_)\n",
    "            j += len(inds_target_)\n",
    "        elif cur_inds < len(inds_source):\n",
    "            mapper[i, j] = 1\n",
    "            i += 1\n",
    "            j += 1\n",
    "        else:\n",
    "            mapper[j, j] = 1\n",
    "            i += 1\n",
    "            j += 1\n",
    "    return torch.from_numpy(mapper).float()"
   ]
  },
  {
   "cell_type": "code",
   "execution_count": 8,
   "id": "0981b1c5-896a-40b6-9cab-649bab6d6439",
   "metadata": {},
   "outputs": [],
   "source": [
    "ba_dog = 'a big ass pink dog'\n",
    "ba_bts = 'a big ass grey blastoise'"
   ]
  },
  {
   "cell_type": "code",
   "execution_count": 9,
   "id": "673534aa-313e-467a-9f7b-08385a448b57",
   "metadata": {},
   "outputs": [
    {
     "data": {
      "text/plain": [
       "torch.Size([10, 10])"
      ]
     },
     "execution_count": 9,
     "metadata": {},
     "output_type": "execute_result"
    }
   ],
   "source": [
    "get_replacement_mapper(ba_dog, ba_bts).shape"
   ]
  },
  {
   "cell_type": "code",
   "execution_count": 10,
   "id": "ef086acd-8458-420c-8a00-3e0d5713df88",
   "metadata": {},
   "outputs": [
    {
     "data": {
      "text/plain": [
       "tensor([[1.0, 0.0, 0.0, 0.0, 0.0, 0.0, 0.0, 0.0, 0.0, 0.0],\n",
       "        [0.0, 1.0, 0.0, 0.0, 0.0, 0.0, 0.0, 0.0, 0.0, 0.0],\n",
       "        [0.0, 0.0, 1.0, 0.0, 0.0, 0.0, 0.0, 0.0, 0.0, 0.0],\n",
       "        [0.0, 0.0, 0.0, 1.0, 0.0, 0.0, 0.0, 0.0, 0.0, 0.0],\n",
       "        [0.0, 0.0, 0.0, 0.0, 1.0, 0.0, 0.0, 0.0, 0.0, 0.0],\n",
       "        [0.0, 0.0, 0.0, 0.0, 0.0, 0.3, 0.3, 0.3, 0.0, 0.0],\n",
       "        [0.0, 0.0, 0.0, 0.0, 0.0, 0.0, 0.0, 0.0, 0.0, 0.0],\n",
       "        [0.0, 0.0, 0.0, 0.0, 0.0, 0.0, 0.0, 0.0, 0.0, 0.0],\n",
       "        [0.0, 0.0, 0.0, 0.0, 0.0, 0.0, 0.0, 0.0, 1.0, 0.0],\n",
       "        [0.0, 0.0, 0.0, 0.0, 0.0, 0.0, 0.0, 0.0, 0.0, 1.0]])"
      ]
     },
     "execution_count": 10,
     "metadata": {},
     "output_type": "execute_result"
    }
   ],
   "source": [
    "get_replacement_mapper(ba_dog, ba_bts)"
   ]
  },
  {
   "cell_type": "markdown",
   "id": "d33cf85b-098f-4b97-80bb-32971e147e9b",
   "metadata": {},
   "source": [
    "I think the code above can be simplified. Let's try."
   ]
  },
  {
   "cell_type": "code",
   "execution_count": 11,
   "id": "942006fc-0d5d-434a-a5ad-ca201838fa79",
   "metadata": {},
   "outputs": [],
   "source": [
    "my_words_x,my_words_y = ba_dog.split(' '), ba_bts.split(' ')\n",
    "assert len(my_words_x)==len(my_words_y)\n",
    "\n",
    "idxs_rpc = [i for i in range(len(my_words_y)) if my_words_y[i] != my_words_x[i]]\n",
    "idxs_src = [get_word_inds(ba_dog, i, tokenizer) for i in idxs_rpc]\n",
    "idxs_tgt = [get_word_inds(ba_bts, i, tokenizer) for i in idxs_rpc]"
   ]
  },
  {
   "cell_type": "code",
   "execution_count": 12,
   "id": "4dea1b14-c154-4103-9ed2-de42495fdfcb",
   "metadata": {},
   "outputs": [
    {
     "data": {
      "text/plain": [
       "([3, 4], [array([4]), array([5])], [array([4]), array([5, 6, 7])])"
      ]
     },
     "execution_count": 12,
     "metadata": {},
     "output_type": "execute_result"
    }
   ],
   "source": [
    "idxs_rpc, idxs_src, idxs_tgt"
   ]
  },
  {
   "cell_type": "code",
   "execution_count": 13,
   "id": "9b05d239-2711-42db-a881-4858aa56b72a",
   "metadata": {},
   "outputs": [],
   "source": [
    "my_mapper = torch.zeros(max_len, max_len)"
   ]
  },
  {
   "cell_type": "code",
   "execution_count": 14,
   "id": "d8cb07cf-514d-4709-8b94-180830e92118",
   "metadata": {},
   "outputs": [
    {
     "data": {
      "text/plain": [
       "4"
      ]
     },
     "execution_count": 14,
     "metadata": {},
     "output_type": "execute_result"
    }
   ],
   "source": [
    "first_change = idxs_src[0][0]\n",
    "first_change"
   ]
  },
  {
   "cell_type": "markdown",
   "id": "9f2f9f7e-f488-40fb-9e41-79268b9cf553",
   "metadata": {},
   "source": [
    "Before the first change, the indices are already aligned, so their map is just the identitiy matrix."
   ]
  },
  {
   "cell_type": "code",
   "execution_count": 15,
   "id": "8eeeae06-9288-49c9-b416-583d213353af",
   "metadata": {},
   "outputs": [
    {
     "data": {
      "text/plain": [
       "tensor([[1., 0., 0., 0.],\n",
       "        [0., 1., 0., 0.],\n",
       "        [0., 0., 1., 0.],\n",
       "        [0., 0., 0., 1.]])"
      ]
     },
     "execution_count": 15,
     "metadata": {},
     "output_type": "execute_result"
    }
   ],
   "source": [
    "my_mapper[:first_change,:first_change] = torch.eye(first_change)\n",
    "my_mapper[:first_change,:first_change]"
   ]
  },
  {
   "cell_type": "code",
   "execution_count": 16,
   "id": "e5090fe4-4dcc-46ab-8d97-352738c55ca4",
   "metadata": {},
   "outputs": [
    {
     "data": {
      "text/plain": [
       "tensor([[1., 0., 0., 0., 0., 0., 0., 0., 0., 0.],\n",
       "        [0., 1., 0., 0., 0., 0., 0., 0., 0., 0.],\n",
       "        [0., 0., 1., 0., 0., 0., 0., 0., 0., 0.],\n",
       "        [0., 0., 0., 1., 0., 0., 0., 0., 0., 0.],\n",
       "        [0., 0., 0., 0., 0., 0., 0., 0., 0., 0.],\n",
       "        [0., 0., 0., 0., 0., 0., 0., 0., 0., 0.],\n",
       "        [0., 0., 0., 0., 0., 0., 0., 0., 0., 0.],\n",
       "        [0., 0., 0., 0., 0., 0., 0., 0., 0., 0.],\n",
       "        [0., 0., 0., 0., 0., 0., 0., 0., 0., 0.],\n",
       "        [0., 0., 0., 0., 0., 0., 0., 0., 0., 0.]])"
      ]
     },
     "execution_count": 16,
     "metadata": {},
     "output_type": "execute_result"
    }
   ],
   "source": [
    "my_mapper"
   ]
  },
  {
   "cell_type": "markdown",
   "id": "7c088685-fc67-4142-87bf-97f92fb1d4bb",
   "metadata": {},
   "source": [
    "First word to change:"
   ]
  },
  {
   "cell_type": "code",
   "execution_count": 17,
   "id": "80319834-1c80-4912-87db-e664d4d21575",
   "metadata": {},
   "outputs": [
    {
     "data": {
      "text/plain": [
       "(array([4]), array([4]))"
      ]
     },
     "execution_count": 17,
     "metadata": {},
     "output_type": "execute_result"
    }
   ],
   "source": [
    "my_i_src,my_i_tgt = idxs_src[0],idxs_tgt[0]\n",
    "my_i_src,my_i_tgt"
   ]
  },
  {
   "cell_type": "code",
   "execution_count": 18,
   "id": "9580ff1f-04b8-40a3-9ca2-8a92dc303016",
   "metadata": {},
   "outputs": [
    {
     "data": {
      "text/plain": [
       "(1.0, tensor([0.]))"
      ]
     },
     "execution_count": 18,
     "metadata": {},
     "output_type": "execute_result"
    }
   ],
   "source": [
    "1/len(my_i_tgt), my_mapper[my_i_src,my_i_tgt]"
   ]
  },
  {
   "cell_type": "code",
   "execution_count": 19,
   "id": "4684688d-de23-4aaa-a9af-275b3ae8043a",
   "metadata": {},
   "outputs": [
    {
     "data": {
      "text/plain": [
       "tensor([1.])"
      ]
     },
     "execution_count": 19,
     "metadata": {},
     "output_type": "execute_result"
    }
   ],
   "source": [
    "my_mapper[my_i_src,my_i_tgt] = 1/len(my_i_tgt)\n",
    "my_mapper[my_i_src,my_i_tgt]"
   ]
  },
  {
   "cell_type": "code",
   "execution_count": 20,
   "id": "9bfc62df-8dd0-4547-bed2-616e900a9051",
   "metadata": {},
   "outputs": [
    {
     "data": {
      "text/plain": [
       "tensor([[1., 0., 0., 0., 0., 0., 0., 0., 0., 0.],\n",
       "        [0., 1., 0., 0., 0., 0., 0., 0., 0., 0.],\n",
       "        [0., 0., 1., 0., 0., 0., 0., 0., 0., 0.],\n",
       "        [0., 0., 0., 1., 0., 0., 0., 0., 0., 0.],\n",
       "        [0., 0., 0., 0., 1., 0., 0., 0., 0., 0.],\n",
       "        [0., 0., 0., 0., 0., 0., 0., 0., 0., 0.],\n",
       "        [0., 0., 0., 0., 0., 0., 0., 0., 0., 0.],\n",
       "        [0., 0., 0., 0., 0., 0., 0., 0., 0., 0.],\n",
       "        [0., 0., 0., 0., 0., 0., 0., 0., 0., 0.],\n",
       "        [0., 0., 0., 0., 0., 0., 0., 0., 0., 0.]])"
      ]
     },
     "execution_count": 20,
     "metadata": {},
     "output_type": "execute_result"
    }
   ],
   "source": [
    "my_mapper"
   ]
  },
  {
   "cell_type": "markdown",
   "id": "0f28b002-b446-46d4-ae1e-b7408826a7bf",
   "metadata": {},
   "source": [
    "Second word to change:"
   ]
  },
  {
   "cell_type": "code",
   "execution_count": 21,
   "id": "6dd7a99c-48b6-40c0-9280-d65b0407be1b",
   "metadata": {},
   "outputs": [
    {
     "data": {
      "text/plain": [
       "(array([5]), array([5, 6, 7]))"
      ]
     },
     "execution_count": 21,
     "metadata": {},
     "output_type": "execute_result"
    }
   ],
   "source": [
    "my_i_src,my_i_tgt = idxs_src[1],idxs_tgt[1]\n",
    "my_i_src,my_i_tgt"
   ]
  },
  {
   "cell_type": "code",
   "execution_count": 22,
   "id": "c4af8d15-044d-41e7-9b8d-8ac5de016681",
   "metadata": {},
   "outputs": [
    {
     "data": {
      "text/plain": [
       "(0.3333333333333333, tensor([0., 0., 0.]))"
      ]
     },
     "execution_count": 22,
     "metadata": {},
     "output_type": "execute_result"
    }
   ],
   "source": [
    "1/len(my_i_tgt), my_mapper[my_i_src,my_i_tgt]"
   ]
  },
  {
   "cell_type": "code",
   "execution_count": 23,
   "id": "f50618e6-9a96-46a1-a849-ad2de6246eda",
   "metadata": {},
   "outputs": [
    {
     "data": {
      "text/plain": [
       "tensor([0.3, 0.3, 0.3])"
      ]
     },
     "execution_count": 23,
     "metadata": {},
     "output_type": "execute_result"
    }
   ],
   "source": [
    "my_mapper[my_i_src,my_i_tgt] = 1/len(my_i_tgt)\n",
    "my_mapper[my_i_src,my_i_tgt]"
   ]
  },
  {
   "cell_type": "code",
   "execution_count": 24,
   "id": "1af26848-3152-419e-82b8-f2b4176ea67b",
   "metadata": {},
   "outputs": [
    {
     "data": {
      "text/plain": [
       "tensor([[1.0, 0.0, 0.0, 0.0, 0.0, 0.0, 0.0, 0.0, 0.0, 0.0],\n",
       "        [0.0, 1.0, 0.0, 0.0, 0.0, 0.0, 0.0, 0.0, 0.0, 0.0],\n",
       "        [0.0, 0.0, 1.0, 0.0, 0.0, 0.0, 0.0, 0.0, 0.0, 0.0],\n",
       "        [0.0, 0.0, 0.0, 1.0, 0.0, 0.0, 0.0, 0.0, 0.0, 0.0],\n",
       "        [0.0, 0.0, 0.0, 0.0, 1.0, 0.0, 0.0, 0.0, 0.0, 0.0],\n",
       "        [0.0, 0.0, 0.0, 0.0, 0.0, 0.3, 0.3, 0.3, 0.0, 0.0],\n",
       "        [0.0, 0.0, 0.0, 0.0, 0.0, 0.0, 0.0, 0.0, 0.0, 0.0],\n",
       "        [0.0, 0.0, 0.0, 0.0, 0.0, 0.0, 0.0, 0.0, 0.0, 0.0],\n",
       "        [0.0, 0.0, 0.0, 0.0, 0.0, 0.0, 0.0, 0.0, 0.0, 0.0],\n",
       "        [0.0, 0.0, 0.0, 0.0, 0.0, 0.0, 0.0, 0.0, 0.0, 0.0]])"
      ]
     },
     "execution_count": 24,
     "metadata": {},
     "output_type": "execute_result"
    }
   ],
   "source": [
    "my_mapper"
   ]
  },
  {
   "cell_type": "markdown",
   "id": "397d7c2a-b0f7-4b5b-867a-5d895ea934b2",
   "metadata": {},
   "source": [
    "After last changes:"
   ]
  },
  {
   "cell_type": "code",
   "execution_count": 25,
   "id": "4e2ea0a2-d1e3-48a3-bd7e-13ffb717bebc",
   "metadata": {},
   "outputs": [
    {
     "data": {
      "text/plain": [
       "(5, 7)"
      ]
     },
     "execution_count": 25,
     "metadata": {},
     "output_type": "execute_result"
    }
   ],
   "source": [
    "idxs_src[-1][-1], idxs_tgt[-1][-1]"
   ]
  },
  {
   "cell_type": "code",
   "execution_count": 26,
   "id": "c2ba2d38-2234-421a-9a21-f2b3546fa560",
   "metadata": {},
   "outputs": [
    {
     "data": {
      "text/plain": [
       "7"
      ]
     },
     "execution_count": 26,
     "metadata": {},
     "output_type": "execute_result"
    }
   ],
   "source": [
    "last_change = max(idxs_src[-1][-1], idxs_tgt[-1][-1])\n",
    "last_change"
   ]
  },
  {
   "cell_type": "code",
   "execution_count": 27,
   "id": "6ab707b7-5fa1-4642-8fbc-1951b7d22985",
   "metadata": {},
   "outputs": [],
   "source": [
    "my_mapper[last_change+1:,last_change+1:] = torch.eye(max_len-last_change-1)"
   ]
  },
  {
   "cell_type": "code",
   "execution_count": 28,
   "id": "46f4f053-f316-45e2-b9a5-62726aa1d529",
   "metadata": {},
   "outputs": [
    {
     "data": {
      "text/plain": [
       "tensor([[1.0, 0.0, 0.0, 0.0, 0.0, 0.0, 0.0, 0.0, 0.0, 0.0],\n",
       "        [0.0, 1.0, 0.0, 0.0, 0.0, 0.0, 0.0, 0.0, 0.0, 0.0],\n",
       "        [0.0, 0.0, 1.0, 0.0, 0.0, 0.0, 0.0, 0.0, 0.0, 0.0],\n",
       "        [0.0, 0.0, 0.0, 1.0, 0.0, 0.0, 0.0, 0.0, 0.0, 0.0],\n",
       "        [0.0, 0.0, 0.0, 0.0, 1.0, 0.0, 0.0, 0.0, 0.0, 0.0],\n",
       "        [0.0, 0.0, 0.0, 0.0, 0.0, 0.3, 0.3, 0.3, 0.0, 0.0],\n",
       "        [0.0, 0.0, 0.0, 0.0, 0.0, 0.0, 0.0, 0.0, 0.0, 0.0],\n",
       "        [0.0, 0.0, 0.0, 0.0, 0.0, 0.0, 0.0, 0.0, 0.0, 0.0],\n",
       "        [0.0, 0.0, 0.0, 0.0, 0.0, 0.0, 0.0, 0.0, 1.0, 0.0],\n",
       "        [0.0, 0.0, 0.0, 0.0, 0.0, 0.0, 0.0, 0.0, 0.0, 1.0]])"
      ]
     },
     "execution_count": 28,
     "metadata": {},
     "output_type": "execute_result"
    }
   ],
   "source": [
    "my_mapper"
   ]
  },
  {
   "cell_type": "code",
   "execution_count": 29,
   "id": "69aa785e-51ce-46e5-946d-1190f5aff23d",
   "metadata": {},
   "outputs": [],
   "source": [
    "def get_mapper(x,y,tokenizer=tokenizer,max_len=max_len):\n",
    "    \"\"\"Mapper by Umer Adil\"\"\"\n",
    "    words_x,words_y = x.split(' '), y.split(' ')\n",
    "    assert len(words_x)==len(words_y)\n",
    "    \n",
    "    idxs_rpc = [i for i in range(len(words_y)) if words_y[i] != words_x[i]]\n",
    "    idxs_src = [get_word_inds(x, i, tokenizer) for i in idxs_rpc]\n",
    "    idxs_tgt = [get_word_inds(y, i, tokenizer) for i in idxs_rpc]\n",
    "\n",
    "    mapper = torch.zeros(max_len, max_len)\n",
    "\n",
    "    # Before first change\n",
    "    first_change = idxs_src[0][0]\n",
    "    mapper[:first_change,:first_change] = torch.eye(first_change)\n",
    "    \n",
    "    # Do changes\n",
    "    for c in range(len(idxs_rpc)):\n",
    "        idxs_src_,idxs_tgt_ = idxs_src[c],idxs_tgt[c]\n",
    "        mapper[idxs_src_,idxs_tgt_] = 1/len(idxs_tgt_)\n",
    "\n",
    "    # After last change\n",
    "    last_change = max(idxs_src[-1][-1], idxs_tgt[-1][-1])\n",
    "    mapper[last_change+1:,last_change+1:] = torch.eye(max_len-last_change-1)\n",
    "\n",
    "    return mapper"
   ]
  },
  {
   "cell_type": "code",
   "execution_count": 30,
   "id": "44aa96a6-8694-4f5c-b1e3-4f2ef19295f8",
   "metadata": {},
   "outputs": [],
   "source": [
    "test_eq(get_replacement_mapper(ba_dog, ba_bts),get_mapper(ba_dog,ba_bts))"
   ]
  },
  {
   "cell_type": "code",
   "execution_count": 31,
   "id": "b5628dea-1191-4df7-bdf9-2f20df46a71d",
   "metadata": {},
   "outputs": [],
   "source": [
    "test_cases = [\n",
    "    ('a bird','a dog'),\n",
    "    ('some dog','some blastoise'),\n",
    "    ('ferocious turtle','sad turtle'),\n",
    "]"
   ]
  },
  {
   "cell_type": "code",
   "execution_count": 32,
   "id": "19e29361-76ec-4365-afce-2500340d2b2f",
   "metadata": {},
   "outputs": [
    {
     "name": "stdout",
     "output_type": "stream",
     "text": [
      "5 6\n"
     ]
    }
   ],
   "source": [
    "max_x,max_y=0,0\n",
    "for x,y in test_cases:\n",
    "    max_x = max(max_x,len(tokenizer(x).input_ids))\n",
    "    max_y = max(max_y,len(tokenizer(y).input_ids))\n",
    "print(max_x,max_y)"
   ]
  },
  {
   "attachments": {
    "4fb5ff23-b1b4-4c6c-946e-5ac06fa918f3.png": {
     "image/png": "[encoded data removed]"
    }
   },
   "cell_type": "markdown",
   "id": "6090bb86-2ffd-4417-b703-1206d2430be6",
   "metadata": {},
   "source": [
    "Testing if the mappers are equal with\n",
    "```\n",
    "for x,y in test_cases:\n",
    "    print(f'Testing: {x} & {y}')\n",
    "    test_eq(get_replacement_mapper(x,y,max_len=7),get_mapper(x,y,max_len=7))\n",
    "```\n",
    "shows, that the first 2 tests pass, but for the third one we get\n",
    "\n",
    "![image.png](attachment:4fb5ff23-b1b4-4c6c-946e-5ac06fa918f3.png)"
   ]
  },
  {
   "cell_type": "code",
   "execution_count": 34,
   "id": "2cb24f8e-fa4e-4830-98b1-b4e70419f02c",
   "metadata": {},
   "outputs": [],
   "source": [
    "def do_tok(o): return tokenizer(o).input_ids\n",
    "def undo_tok(o): return [tokenizer.decode(t) for t in o]"
   ]
  },
  {
   "cell_type": "code",
   "execution_count": 35,
   "id": "132fa237-70b9-4c8a-a6e1-ba44b04653e1",
   "metadata": {},
   "outputs": [
    {
     "name": "stdout",
     "output_type": "stream",
     "text": [
      "[49406, 45652, 879, 10912, 49407]\n",
      "[49406, 3719, 10912, 49407]\n"
     ]
    }
   ],
   "source": [
    "print(do_tok('ferocious turtle'))\n",
    "print(do_tok('sad turtle'))"
   ]
  },
  {
   "cell_type": "code",
   "execution_count": 36,
   "id": "938942ee-7c64-48f6-a54a-e7f46c406c6e",
   "metadata": {},
   "outputs": [
    {
     "name": "stdout",
     "output_type": "stream",
     "text": [
      "['<|startoftext|>', 'feroci', 'ous', 'turtle', '<|endoftext|>']\n",
      "['<|startoftext|>', 'sad', 'turtle', '<|endoftext|>']\n"
     ]
    }
   ],
   "source": [
    "print(undo_tok(do_tok('ferocious turtle')))\n",
    "print(undo_tok(do_tok('sad turtle')))"
   ]
  },
  {
   "cell_type": "markdown",
   "id": "11eb91e7-805d-429f-8fe8-8e3ec1dd5137",
   "metadata": {},
   "source": [
    "We don't care about the start and finish token for now"
   ]
  },
  {
   "cell_type": "code",
   "execution_count": 37,
   "id": "bb94d08a-7b8e-46eb-b740-7daab01b1225",
   "metadata": {},
   "outputs": [
    {
     "data": {
      "text/plain": [
       "tensor([[1., 0., 0.],\n",
       "        [1., 1., 0.],\n",
       "        [0., 0., 1.]])"
      ]
     },
     "execution_count": 37,
     "metadata": {},
     "output_type": "execute_result"
    }
   ],
   "source": [
    "get_replacement_mapper(x,y,max_len=5)[1:-1,1:-1]"
   ]
  },
  {
   "cell_type": "code",
   "execution_count": 38,
   "id": "85d8ddeb-7c83-4aa2-842e-ecbb8e50cfc5",
   "metadata": {},
   "outputs": [
    {
     "data": {
      "text/plain": [
       "tensor([[1., 0., 0.],\n",
       "        [1., 0., 0.],\n",
       "        [0., 0., 1.]])"
      ]
     },
     "execution_count": 38,
     "metadata": {},
     "output_type": "execute_result"
    }
   ],
   "source": [
    "get_mapper(x,y,max_len=5)[1:-1,1:-1]"
   ]
  },
  {
   "cell_type": "markdown",
   "id": "84a74d2b-baa3-4d65-9475-960d98c731b3",
   "metadata": {},
   "source": [
    "Q: How should mapper look like for `['feroci', 'ous', 'turtle']` and `['sad', 'turtle']`?"
   ]
  },
  {
   "cell_type": "code",
   "execution_count": null,
   "id": "17a1c28a-121c-43f8-9b67-fee31f544b8c",
   "metadata": {},
   "outputs": [],
   "source": []
  }
 ],
 "metadata": {
  "kernelspec": {
   "display_name": "Python 3 (ipykernel)",
   "language": "python",
   "name": "python3"
  },
  "language_info": {
   "codemirror_mode": {
    "name": "ipython",
    "version": 3
   },
   "file_extension": ".py",
   "mimetype": "text/x-python",
   "name": "python",
   "nbconvert_exporter": "python",
   "pygments_lexer": "ipython3",
   "version": "3.10.11"
  }
 },
 "nbformat": 4,
 "nbformat_minor": 5
}
