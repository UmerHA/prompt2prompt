{
 "cells": [
  {
   "attachments": {},
   "cell_type": "markdown",
   "metadata": {},
   "source": [
    "The goal of this notebook is to compute the expected image slices against which the unit tests results will be checked"
   ]
  },
  {
   "cell_type": "code",
   "execution_count": 1,
   "metadata": {},
   "outputs": [
    {
     "name": "stdout",
     "output_type": "stream",
     "text": [
      "debconf: delaying package configuration, since apt-utils is not installed\n",
      "Selecting previously unselected package libelf1:amd64.\n",
      "(Reading database ... 33355 files and directories currently installed.)\n",
      "Preparing to unpack .../00-libelf1_0.176-1.1build1_amd64.deb ...\n",
      "Unpacking libelf1:amd64 (0.176-1.1build1) ...\n",
      "Selecting previously unselected package libdrm-common.\n",
      "Preparing to unpack .../01-libdrm-common_2.4.107-8ubuntu1~20.04.2_all.deb ...\n",
      "Unpacking libdrm-common (2.4.107-8ubuntu1~20.04.2) ...\n",
      "Selecting previously unselected package libdrm2:amd64.\n",
      "Preparing to unpack .../02-libdrm2_2.4.107-8ubuntu1~20.04.2_amd64.deb ...\n",
      "Unpacking libdrm2:amd64 (2.4.107-8ubuntu1~20.04.2) ...\n",
      "Selecting previously unselected package libdrm-amdgpu1:amd64.\n",
      "Preparing to unpack .../03-libdrm-amdgpu1_2.4.107-8ubuntu1~20.04.2_amd64.deb ...\n",
      "Unpacking libdrm-amdgpu1:amd64 (2.4.107-8ubuntu1~20.04.2) ...\n",
      "Selecting previously unselected package libpciaccess0:amd64.\n",
      "Preparing to unpack .../04-libpciaccess0_0.16-0ubuntu1_amd64.deb ...\n",
      "Unpacking libpciaccess0:amd64 (0.16-0ubuntu1) ...\n",
      "Selecting previously unselected package libdrm-intel1:amd64.\n",
      "Preparing to unpack .../05-libdrm-intel1_2.4.107-8ubuntu1~20.04.2_amd64.deb ...\n",
      "Unpacking libdrm-intel1:amd64 (2.4.107-8ubuntu1~20.04.2) ...\n",
      "Selecting previously unselected package libdrm-nouveau2:amd64.\n",
      "Preparing to unpack .../06-libdrm-nouveau2_2.4.107-8ubuntu1~20.04.2_amd64.deb ...\n",
      "Unpacking libdrm-nouveau2:amd64 (2.4.107-8ubuntu1~20.04.2) ...\n",
      "Selecting previously unselected package libdrm-radeon1:amd64.\n",
      "Preparing to unpack .../07-libdrm-radeon1_2.4.107-8ubuntu1~20.04.2_amd64.deb ...\n",
      "Unpacking libdrm-radeon1:amd64 (2.4.107-8ubuntu1~20.04.2) ...\n",
      "Selecting previously unselected package libglapi-mesa:amd64.\n",
      "Preparing to unpack .../08-libglapi-mesa_21.2.6-0ubuntu0.1~20.04.2_amd64.deb ...\n",
      "Unpacking libglapi-mesa:amd64 (21.2.6-0ubuntu0.1~20.04.2) ...\n",
      "Selecting previously unselected package libllvm12:amd64.\n",
      "Preparing to unpack .../09-libllvm12_1%3a12.0.0-3ubuntu1~20.04.5_amd64.deb ...\n",
      "Unpacking libllvm12:amd64 (1:12.0.0-3ubuntu1~20.04.5) ...\n",
      "Selecting previously unselected package libsensors-config.\n",
      "Preparing to unpack .../10-libsensors-config_1%3a3.6.0-2ubuntu1.1_all.deb ...\n",
      "Unpacking libsensors-config (1:3.6.0-2ubuntu1.1) ...\n",
      "Selecting previously unselected package libsensors5:amd64.\n",
      "Preparing to unpack .../11-libsensors5_1%3a3.6.0-2ubuntu1.1_amd64.deb ...\n",
      "Unpacking libsensors5:amd64 (1:3.6.0-2ubuntu1.1) ...\n",
      "Selecting previously unselected package libvulkan1:amd64.\n",
      "Preparing to unpack .../12-libvulkan1_1.2.131.2-1_amd64.deb ...\n",
      "Unpacking libvulkan1:amd64 (1.2.131.2-1) ...\n",
      "Selecting previously unselected package libgl1-mesa-dri:amd64.\n",
      "Preparing to unpack .../13-libgl1-mesa-dri_21.2.6-0ubuntu0.1~20.04.2_amd64.deb ...\n",
      "Unpacking libgl1-mesa-dri:amd64 (21.2.6-0ubuntu0.1~20.04.2) ...\n",
      "Selecting previously unselected package libglvnd0:amd64.\n",
      "Preparing to unpack .../14-libglvnd0_1.3.2-1~ubuntu0.20.04.2_amd64.deb ...\n",
      "Unpacking libglvnd0:amd64 (1.3.2-1~ubuntu0.20.04.2) ...\n",
      "Selecting previously unselected package libx11-xcb1:amd64.\n",
      "Preparing to unpack .../15-libx11-xcb1_2%3a1.6.9-2ubuntu1.5_amd64.deb ...\n",
      "Unpacking libx11-xcb1:amd64 (2:1.6.9-2ubuntu1.5) ...\n",
      "Selecting previously unselected package libxcb-dri2-0:amd64.\n",
      "Preparing to unpack .../16-libxcb-dri2-0_1.14-2_amd64.deb ...\n",
      "Unpacking libxcb-dri2-0:amd64 (1.14-2) ...\n",
      "Selecting previously unselected package libxcb-dri3-0:amd64.\n",
      "Preparing to unpack .../17-libxcb-dri3-0_1.14-2_amd64.deb ...\n",
      "Unpacking libxcb-dri3-0:amd64 (1.14-2) ...\n",
      "Selecting previously unselected package libxcb-glx0:amd64.\n",
      "Preparing to unpack .../18-libxcb-glx0_1.14-2_amd64.deb ...\n",
      "Unpacking libxcb-glx0:amd64 (1.14-2) ...\n",
      "Selecting previously unselected package libxcb-present0:amd64.\n",
      "Preparing to unpack .../19-libxcb-present0_1.14-2_amd64.deb ...\n",
      "Unpacking libxcb-present0:amd64 (1.14-2) ...\n",
      "Selecting previously unselected package libxcb-shm0:amd64.\n",
      "Preparing to unpack .../20-libxcb-shm0_1.14-2_amd64.deb ...\n",
      "Unpacking libxcb-shm0:amd64 (1.14-2) ...\n",
      "Selecting previously unselected package libxcb-sync1:amd64.\n",
      "Preparing to unpack .../21-libxcb-sync1_1.14-2_amd64.deb ...\n",
      "Unpacking libxcb-sync1:amd64 (1.14-2) ...\n",
      "Selecting previously unselected package libxcb-xfixes0:amd64.\n",
      "Preparing to unpack .../22-libxcb-xfixes0_1.14-2_amd64.deb ...\n",
      "Unpacking libxcb-xfixes0:amd64 (1.14-2) ...\n",
      "Selecting previously unselected package libxfixes3:amd64.\n",
      "Preparing to unpack .../23-libxfixes3_1%3a5.0.3-2_amd64.deb ...\n",
      "Unpacking libxfixes3:amd64 (1:5.0.3-2) ...\n",
      "Selecting previously unselected package libxshmfence1:amd64.\n",
      "Preparing to unpack .../24-libxshmfence1_1.3-1_amd64.deb ...\n",
      "Unpacking libxshmfence1:amd64 (1.3-1) ...\n",
      "Selecting previously unselected package libxxf86vm1:amd64.\n",
      "Preparing to unpack .../25-libxxf86vm1_1%3a1.1.4-1build1_amd64.deb ...\n",
      "Unpacking libxxf86vm1:amd64 (1:1.1.4-1build1) ...\n",
      "Selecting previously unselected package libglx-mesa0:amd64.\n",
      "Preparing to unpack .../26-libglx-mesa0_21.2.6-0ubuntu0.1~20.04.2_amd64.deb ...\n",
      "Unpacking libglx-mesa0:amd64 (21.2.6-0ubuntu0.1~20.04.2) ...\n",
      "Selecting previously unselected package libglx0:amd64.\n",
      "Preparing to unpack .../27-libglx0_1.3.2-1~ubuntu0.20.04.2_amd64.deb ...\n",
      "Unpacking libglx0:amd64 (1.3.2-1~ubuntu0.20.04.2) ...\n",
      "Selecting previously unselected package libgl1:amd64.\n",
      "Preparing to unpack .../28-libgl1_1.3.2-1~ubuntu0.20.04.2_amd64.deb ...\n",
      "Unpacking libgl1:amd64 (1.3.2-1~ubuntu0.20.04.2) ...\n",
      "Selecting previously unselected package libgl1-mesa-glx:amd64.\n",
      "Preparing to unpack .../29-libgl1-mesa-glx_21.2.6-0ubuntu0.1~20.04.2_amd64.deb ...\n",
      "Unpacking libgl1-mesa-glx:amd64 (21.2.6-0ubuntu0.1~20.04.2) ...\n",
      "Selecting previously unselected package libwayland-client0:amd64.\n",
      "Preparing to unpack .../30-libwayland-client0_1.18.0-1ubuntu0.1_amd64.deb ...\n",
      "Unpacking libwayland-client0:amd64 (1.18.0-1ubuntu0.1) ...\n",
      "Selecting previously unselected package libxcb-randr0:amd64.\n",
      "Preparing to unpack .../31-libxcb-randr0_1.14-2_amd64.deb ...\n",
      "Unpacking libxcb-randr0:amd64 (1.14-2) ...\n",
      "Selecting previously unselected package mesa-vulkan-drivers:amd64.\n",
      "Preparing to unpack .../32-mesa-vulkan-drivers_21.2.6-0ubuntu0.1~20.04.2_amd64.deb ...\n",
      "Unpacking mesa-vulkan-drivers:amd64 (21.2.6-0ubuntu0.1~20.04.2) ...\n",
      "Setting up libxcb-dri3-0:amd64 (1.14-2) ...\n",
      "Setting up libx11-xcb1:amd64 (2:1.6.9-2ubuntu1.5) ...\n",
      "Setting up libpciaccess0:amd64 (0.16-0ubuntu1) ...\n",
      "Setting up libxcb-xfixes0:amd64 (1.14-2) ...\n",
      "Setting up libglvnd0:amd64 (1.3.2-1~ubuntu0.20.04.2) ...\n",
      "Setting up libxcb-glx0:amd64 (1.14-2) ...\n",
      "Setting up libsensors-config (1:3.6.0-2ubuntu1.1) ...\n",
      "Setting up libxcb-shm0:amd64 (1.14-2) ...\n",
      "Setting up libxxf86vm1:amd64 (1:1.1.4-1build1) ...\n",
      "Setting up libxcb-present0:amd64 (1.14-2) ...\n",
      "Setting up libxfixes3:amd64 (1:5.0.3-2) ...\n",
      "Setting up libxcb-sync1:amd64 (1.14-2) ...\n",
      "Setting up libllvm12:amd64 (1:12.0.0-3ubuntu1~20.04.5) ...\n",
      "Setting up libsensors5:amd64 (1:3.6.0-2ubuntu1.1) ...\n",
      "Setting up libglapi-mesa:amd64 (21.2.6-0ubuntu0.1~20.04.2) ...\n",
      "Setting up libvulkan1:amd64 (1.2.131.2-1) ...\n",
      "Setting up libxcb-dri2-0:amd64 (1.14-2) ...\n",
      "Setting up libxshmfence1:amd64 (1.3-1) ...\n",
      "Setting up libxcb-randr0:amd64 (1.14-2) ...\n",
      "Setting up libdrm-common (2.4.107-8ubuntu1~20.04.2) ...\n",
      "Setting up libelf1:amd64 (0.176-1.1build1) ...\n",
      "Setting up libwayland-client0:amd64 (1.18.0-1ubuntu0.1) ...\n",
      "Setting up libdrm2:amd64 (2.4.107-8ubuntu1~20.04.2) ...\n",
      "Setting up libdrm-amdgpu1:amd64 (2.4.107-8ubuntu1~20.04.2) ...\n",
      "Setting up mesa-vulkan-drivers:amd64 (21.2.6-0ubuntu0.1~20.04.2) ...\n",
      "Setting up libdrm-nouveau2:amd64 (2.4.107-8ubuntu1~20.04.2) ...\n",
      "Setting up libdrm-radeon1:amd64 (2.4.107-8ubuntu1~20.04.2) ...\n",
      "Setting up libdrm-intel1:amd64 (2.4.107-8ubuntu1~20.04.2) ...\n",
      "Setting up libgl1-mesa-dri:amd64 (21.2.6-0ubuntu0.1~20.04.2) ...\n",
      "Setting up libglx-mesa0:amd64 (21.2.6-0ubuntu0.1~20.04.2) ...\n",
      "Setting up libglx0:amd64 (1.3.2-1~ubuntu0.20.04.2) ...\n",
      "Setting up libgl1:amd64 (1.3.2-1~ubuntu0.20.04.2) ...\n",
      "Setting up libgl1-mesa-glx:amd64 (21.2.6-0ubuntu0.1~20.04.2) ...\n",
      "Processing triggers for libc-bin (2.31-0ubuntu9.9) ...\n"
     ]
    }
   ],
   "source": [
    "! apt-get update -qq\n",
    "! apt-get install -y -qq libgl1-mesa-glx"
   ]
  },
  {
   "cell_type": "code",
   "execution_count": 2,
   "metadata": {},
   "outputs": [
    {
     "name": "stdout",
     "output_type": "stream",
     "text": [
      "/bin/bash: pipenv: command not found\n"
     ]
    }
   ],
   "source": [
    "!pipenv shell"
   ]
  },
  {
   "cell_type": "code",
   "execution_count": 3,
   "metadata": {},
   "outputs": [
    {
     "name": "stderr",
     "output_type": "stream",
     "text": [
      "/home/.local/share/virtualenvs/notebooks-TPEo7knB/lib/python3.10/site-packages/tqdm/auto.py:21: TqdmWarning: IProgress not found. Please update jupyter and ipywidgets. See https://ipywidgets.readthedocs.io/en/stable/user_install.html\n",
      "  from .autonotebook import tqdm as notebook_tqdm\n"
     ]
    }
   ],
   "source": [
    "import numpy as np\n",
    "import torch\n",
    "from transformers import CLIPTextConfig, CLIPTextModel, CLIPTokenizer\n",
    "\n",
    "from diffusers import Prompt2PromptPipeline, DDIMScheduler, UNet2DConditionModel, AutoencoderKL\n",
    "from diffusers.utils.testing_utils import enable_full_determinism, require_torch_gpu, slow, torch_device\n",
    "\n",
    "np.set_printoptions(linewidth=140, precision=3)"
   ]
  },
  {
   "cell_type": "code",
   "execution_count": 4,
   "metadata": {},
   "outputs": [],
   "source": [
    "enable_full_determinism()"
   ]
  },
  {
   "cell_type": "code",
   "execution_count": 5,
   "metadata": {},
   "outputs": [],
   "source": [
    "replace_steps = {\n",
    "    \"cross_replace_steps\": 0.4,\n",
    "    \"self_replace_steps\": 0.4\n",
    "}"
   ]
  },
  {
   "cell_type": "code",
   "execution_count": 6,
   "metadata": {},
   "outputs": [],
   "source": [
    "test_matrix = [\n",
    "    (\n",
    "        [\"A turtle playing with a ball\", \"A monkey playing with a ball\"],\n",
    "        \"replace\",\n",
    "        {**replace_steps},\n",
    "        [9.956e-01, 5.785e-01, 4.675e-01, 9.930e-01, 0.0, 1.000, 1.199e-03, 2.648e-04, 5.101e-04] # todo: adapt\n",
    "    ), \n",
    "    (\n",
    "        [\"A turtle playing with a ball\", \"A monkey playing with a ball\"],\n",
    "        \"replace\",\n",
    "        {**replace_steps, \"local_blend_words\": [\"turtle\", \"monkey\"]},\n",
    "        [9.956e-01, 5.785e-01, 4.675e-01, 9.930e-01, 0.0, 1.000, 1.199e-03, 2.648e-04, 5.101e-04] # todo: adapt\n",
    "    ), \n",
    "    (\n",
    "        [\"A turtle\", \"A turtle in a forest\"],\n",
    "        \"refine\",\n",
    "        {**replace_steps},\n",
    "        [9.956e-01, 5.785e-01, 4.675e-01, 9.930e-01, 0.0, 1.000, 1.199e-03, 2.648e-04, 5.101e-04] # todo: adapt\n",
    "    ),\n",
    "    (\n",
    "        [\"A turtle\", \"A turtle in a forest\"],\n",
    "        \"refine\",\n",
    "        {**replace_steps, \"local_blend_words\": [\"in\", \"a\" , \"forest\"]},\n",
    "        [9.956e-01, 5.785e-01, 4.675e-01, 9.930e-01, 0.0, 1.000, 1.199e-03, 2.648e-04, 5.101e-04] # todo: adapt\n",
    "    ), \n",
    "    (\n",
    "        [\"A smiling turtle\"] * 2,\n",
    "        \"reweight\",\n",
    "        {**replace_steps, \"equalizer_words\": [\"smiling\"], \"equalizer_strengths\": [5]},\n",
    "        [9.956e-01, 5.785e-01, 4.675e-01, 9.930e-01, 0.0, 1.000, 1.199e-03, 2.648e-04, 5.101e-04] # todo: adapt\n",
    "    ), \n",
    "]"
   ]
  },
  {
   "cell_type": "code",
   "execution_count": 7,
   "metadata": {},
   "outputs": [],
   "source": [
    "def get_dummy_components():\n",
    "    torch.manual_seed(0)\n",
    "    unet = UNet2DConditionModel(\n",
    "        block_out_channels=(32, 64),\n",
    "        layers_per_block=2,\n",
    "        sample_size=32,\n",
    "        in_channels=4,\n",
    "        out_channels=4,\n",
    "        down_block_types=(\"DownBlock2D\", \"CrossAttnDownBlock2D\"),\n",
    "        up_block_types=(\"CrossAttnUpBlock2D\", \"UpBlock2D\"),\n",
    "        cross_attention_dim=32,\n",
    "        # SD2-specific config below\n",
    "        attention_head_dim=(2, 4),\n",
    "        use_linear_projection=True,\n",
    "    )\n",
    "    scheduler = DDIMScheduler(\n",
    "        beta_start=0.00085,\n",
    "        beta_end=0.012,\n",
    "        beta_schedule=\"scaled_linear\",\n",
    "        clip_sample=False,\n",
    "        set_alpha_to_one=False,\n",
    "    )\n",
    "    torch.manual_seed(0)\n",
    "    vae = AutoencoderKL(\n",
    "        block_out_channels=[32, 64],\n",
    "        in_channels=3,\n",
    "        out_channels=3,\n",
    "        down_block_types=[\"DownEncoderBlock2D\", \"DownEncoderBlock2D\"],\n",
    "        up_block_types=[\"UpDecoderBlock2D\", \"UpDecoderBlock2D\"],\n",
    "        latent_channels=4,\n",
    "        sample_size=128,\n",
    "    )\n",
    "    torch.manual_seed(0)\n",
    "    text_encoder_config = CLIPTextConfig(\n",
    "        bos_token_id=0,\n",
    "        eos_token_id=2,\n",
    "        hidden_size=32,\n",
    "        intermediate_size=37,\n",
    "        layer_norm_eps=1e-05,\n",
    "        num_attention_heads=4,\n",
    "        num_hidden_layers=5,\n",
    "        pad_token_id=1,\n",
    "        vocab_size=1000,\n",
    "        # SD2-specific config below\n",
    "        hidden_act=\"gelu\",\n",
    "        projection_dim=512,\n",
    "    )\n",
    "    text_encoder = CLIPTextModel(text_encoder_config)\n",
    "    tokenizer = CLIPTokenizer.from_pretrained(\"hf-internal-testing/tiny-random-clip\")\n",
    "\n",
    "    components = {\n",
    "        \"unet\": unet,\n",
    "        \"scheduler\": scheduler,\n",
    "        \"vae\": vae,\n",
    "        \"text_encoder\": text_encoder,\n",
    "        \"tokenizer\": tokenizer,\n",
    "        \"safety_checker\": None,\n",
    "        \"feature_extractor\": None,\n",
    "    }\n",
    "    return components"
   ]
  },
  {
   "cell_type": "code",
   "execution_count": 8,
   "metadata": {},
   "outputs": [],
   "source": [
    "from functools import partial\n",
    "def expand(test, matrix): return [partial(test, *params) for params in matrix]"
   ]
  },
  {
   "cell_type": "code",
   "execution_count": 9,
   "metadata": {},
   "outputs": [],
   "source": [
    "def test_fast_inference(prompts, edit_type, edit_kwargs, expected_slice, seed=0, n_steps=2):\n",
    "    print(f\"Starting next test 🎢 (prompts={prompts}, edit_type={edit_type}, edit_kwargs={edit_kwargs})\")\n",
    "\n",
    "    device = \"cpu\"\n",
    "    pipe = Prompt2PromptPipeline(**get_dummy_components())\n",
    "    pipe.to(device)\n",
    "    pipe.set_progress_bar_config(disable=None)\n",
    "\n",
    "    generator = torch.Generator(device=device).manual_seed(seed)\n",
    "    image = pipe(prompts, height=64, width=64, num_inference_steps=n_steps, generator=generator, edit_type=edit_type, edit_kwargs=edit_kwargs.copy(), output_type=\"numpy\").images\n",
    "\n",
    "    generator = torch.Generator(device=device).manual_seed(seed)\n",
    "    image_from_tuple = pipe(prompts, height=64, width=64, num_inference_steps=n_steps, generator=generator, edit_type=edit_type, edit_kwargs=edit_kwargs.copy(), output_type=\"numpy\", return_dict=False)[0]\n",
    "\n",
    "    image_slice = image[0, -3:, -3:, -1]\n",
    "    image_from_tuple_slice = image_from_tuple[0, -3:, -3:, -1]\n",
    "\n",
    "    assert image.shape == (2, 64, 64, 3)\n",
    "    expected_slice = np.array(expected_slice)\n",
    "    \n",
    "    return image_slice.flatten(), image_from_tuple_slice.flatten()"
   ]
  },
  {
   "cell_type": "code",
   "execution_count": 10,
   "metadata": {},
   "outputs": [],
   "source": [
    "unit_tests = expand(test_fast_inference, test_matrix)"
   ]
  },
  {
   "cell_type": "code",
   "execution_count": 11,
   "metadata": {},
   "outputs": [
    {
     "name": "stdout",
     "output_type": "stream",
     "text": [
      "Starting next test 🎢 (prompts=['A turtle playing with a ball', 'A monkey playing with a ball'], edit_type=replace, edit_kwargs={'cross_replace_steps': 0.4, 'self_replace_steps': 0.4})\n"
     ]
    },
    {
     "name": "stderr",
     "output_type": "stream",
     "text": [
      "/home/diffusers/diffusers/src/diffusers/pipelines/stable_diffusion/pipeline_stable_diffusion.py:128: FutureWarning: The configuration file of this scheduler: DDIMScheduler {\n",
      "  \"_class_name\": \"DDIMScheduler\",\n",
      "  \"_diffusers_version\": \"0.20.0.dev0\",\n",
      "  \"beta_end\": 0.012,\n",
      "  \"beta_schedule\": \"scaled_linear\",\n",
      "  \"beta_start\": 0.00085,\n",
      "  \"clip_sample\": false,\n",
      "  \"clip_sample_range\": 1.0,\n",
      "  \"dynamic_thresholding_ratio\": 0.995,\n",
      "  \"num_train_timesteps\": 1000,\n",
      "  \"prediction_type\": \"epsilon\",\n",
      "  \"rescale_betas_zero_snr\": false,\n",
      "  \"sample_max_value\": 1.0,\n",
      "  \"set_alpha_to_one\": false,\n",
      "  \"steps_offset\": 0,\n",
      "  \"thresholding\": false,\n",
      "  \"timestep_spacing\": \"leading\",\n",
      "  \"trained_betas\": null\n",
      "}\n",
      " is outdated. `steps_offset` should be set to 1 instead of 0. Please make sure to update the config accordingly as leaving `steps_offset` might led to incorrect results in future versions. If you have downloaded this checkpoint from the Hugging Face Hub, it would be very nice if you could open a Pull request for the `scheduler/scheduler_config.json` file\n",
      "  deprecate(\"steps_offset!=1\", \"1.0.0\", deprecation_message, standard_warn=False)\n",
      "You have disabled the safety checker for <class 'diffusers.pipelines.prompt2prompt.pipeline_prompt2prompt.Prompt2PromptPipeline'> by passing `safety_checker=None`. Ensure that you abide to the conditions of the Stable Diffusion license and do not expose unfiltered results in services or applications open to the public. Both the diffusers team and Hugging Face strongly recommend to keep the safety filter enabled in all public facing circumstances, disabling it only for use-cases that involve analyzing network behavior or auditing its results. For more information, please have a look at https://github.com/huggingface/diffusers/pull/254 .\n",
      "/home/diffusers/diffusers/src/diffusers/pipelines/stable_diffusion/pipeline_stable_diffusion.py:429: FutureWarning: The decode_latents method is deprecated and will be removed in a future version. Please use VaeImageProcessor instead\n",
      "  warnings.warn(\n"
     ]
    },
    {
     "data": {
      "text/plain": [
       "(array([0.582, 0.61 , 0.503, 0.507, 0.542, 0.471, 0.498, 0.49 , 0.487], dtype=float32),\n",
       " array([0.582, 0.61 , 0.503, 0.507, 0.542, 0.471, 0.498, 0.49 , 0.487], dtype=float32))"
      ]
     },
     "execution_count": 11,
     "metadata": {},
     "output_type": "execute_result"
    }
   ],
   "source": [
    "unit_tests[0]()"
   ]
  },
  {
   "cell_type": "markdown",
   "metadata": {},
   "source": [
    "Now let's run it for all test cases"
   ]
  },
  {
   "cell_type": "code",
   "execution_count": 12,
   "metadata": {},
   "outputs": [
    {
     "name": "stdout",
     "output_type": "stream",
     "text": [
      "Starting next test 🎢 (prompts=['A turtle playing with a ball', 'A monkey playing with a ball'], edit_type=replace, edit_kwargs={'cross_replace_steps': 0.4, 'self_replace_steps': 0.4})\n"
     ]
    },
    {
     "name": "stderr",
     "output_type": "stream",
     "text": [
      "You have disabled the safety checker for <class 'diffusers.pipelines.prompt2prompt.pipeline_prompt2prompt.Prompt2PromptPipeline'> by passing `safety_checker=None`. Ensure that you abide to the conditions of the Stable Diffusion license and do not expose unfiltered results in services or applications open to the public. Both the diffusers team and Hugging Face strongly recommend to keep the safety filter enabled in all public facing circumstances, disabling it only for use-cases that involve analyzing network behavior or auditing its results. For more information, please have a look at https://github.com/huggingface/diffusers/pull/254 .\n"
     ]
    },
    {
     "name": "stdout",
     "output_type": "stream",
     "text": [
      "Starting next test 🎢 (prompts=['A turtle playing with a ball', 'A monkey playing with a ball'], edit_type=replace, edit_kwargs={'cross_replace_steps': 0.4, 'self_replace_steps': 0.4, 'local_blend_words': ['turtle', 'monkey']})\n"
     ]
    },
    {
     "name": "stderr",
     "output_type": "stream",
     "text": [
      "You have disabled the safety checker for <class 'diffusers.pipelines.prompt2prompt.pipeline_prompt2prompt.Prompt2PromptPipeline'> by passing `safety_checker=None`. Ensure that you abide to the conditions of the Stable Diffusion license and do not expose unfiltered results in services or applications open to the public. Both the diffusers team and Hugging Face strongly recommend to keep the safety filter enabled in all public facing circumstances, disabling it only for use-cases that involve analyzing network behavior or auditing its results. For more information, please have a look at https://github.com/huggingface/diffusers/pull/254 .\n"
     ]
    },
    {
     "name": "stdout",
     "output_type": "stream",
     "text": [
      "Starting next test 🎢 (prompts=['A turtle', 'A turtle in a forest'], edit_type=refine, edit_kwargs={'cross_replace_steps': 0.4, 'self_replace_steps': 0.4})\n"
     ]
    },
    {
     "name": "stderr",
     "output_type": "stream",
     "text": [
      "You have disabled the safety checker for <class 'diffusers.pipelines.prompt2prompt.pipeline_prompt2prompt.Prompt2PromptPipeline'> by passing `safety_checker=None`. Ensure that you abide to the conditions of the Stable Diffusion license and do not expose unfiltered results in services or applications open to the public. Both the diffusers team and Hugging Face strongly recommend to keep the safety filter enabled in all public facing circumstances, disabling it only for use-cases that involve analyzing network behavior or auditing its results. For more information, please have a look at https://github.com/huggingface/diffusers/pull/254 .\n"
     ]
    },
    {
     "name": "stdout",
     "output_type": "stream",
     "text": [
      "Starting next test 🎢 (prompts=['A turtle', 'A turtle in a forest'], edit_type=refine, edit_kwargs={'cross_replace_steps': 0.4, 'self_replace_steps': 0.4, 'local_blend_words': ['in', 'a', 'forest']})\n"
     ]
    },
    {
     "name": "stderr",
     "output_type": "stream",
     "text": [
      "You have disabled the safety checker for <class 'diffusers.pipelines.prompt2prompt.pipeline_prompt2prompt.Prompt2PromptPipeline'> by passing `safety_checker=None`. Ensure that you abide to the conditions of the Stable Diffusion license and do not expose unfiltered results in services or applications open to the public. Both the diffusers team and Hugging Face strongly recommend to keep the safety filter enabled in all public facing circumstances, disabling it only for use-cases that involve analyzing network behavior or auditing its results. For more information, please have a look at https://github.com/huggingface/diffusers/pull/254 .\n"
     ]
    },
    {
     "name": "stdout",
     "output_type": "stream",
     "text": [
      "Starting next test 🎢 (prompts=['A smiling turtle', 'A smiling turtle'], edit_type=reweight, edit_kwargs={'cross_replace_steps': 0.4, 'self_replace_steps': 0.4, 'equalizer_words': ['smiling'], 'equalizer_strengths': [5]})\n"
     ]
    },
    {
     "name": "stderr",
     "output_type": "stream",
     "text": [
      "You have disabled the safety checker for <class 'diffusers.pipelines.prompt2prompt.pipeline_prompt2prompt.Prompt2PromptPipeline'> by passing `safety_checker=None`. Ensure that you abide to the conditions of the Stable Diffusion license and do not expose unfiltered results in services or applications open to the public. Both the diffusers team and Hugging Face strongly recommend to keep the safety filter enabled in all public facing circumstances, disabling it only for use-cases that involve analyzing network behavior or auditing its results. For more information, please have a look at https://github.com/huggingface/diffusers/pull/254 .\n"
     ]
    }
   ],
   "source": [
    "res = []\n",
    "for t in unit_tests: res.append(t())"
   ]
  },
  {
   "cell_type": "code",
   "execution_count": 14,
   "metadata": {},
   "outputs": [
    {
     "name": "stdout",
     "output_type": "stream",
     "text": [
      "[0.582 0.61  0.503 0.507 0.542 0.471 0.498 0.49  0.487] \t [0.582 0.61  0.503 0.507 0.542 0.471 0.498 0.49  0.487]\n",
      "[0.582 0.61  0.503 0.507 0.542 0.471 0.498 0.49  0.487] \t [0.582 0.61  0.503 0.507 0.542 0.471 0.498 0.49  0.487]\n",
      "[0.571 0.605 0.499 0.502 0.541 0.468 0.5   0.484 0.483] \t [0.571 0.605 0.499 0.502 0.541 0.468 0.5   0.484 0.483]\n",
      "[0.571 0.605 0.499 0.502 0.541 0.468 0.5   0.484 0.483] \t [0.571 0.605 0.499 0.502 0.541 0.468 0.5   0.484 0.483]\n",
      "[0.573 0.607 0.502 0.504 0.54  0.469 0.5   0.486 0.483] \t [0.573 0.607 0.502 0.504 0.54  0.469 0.5   0.486 0.483]\n"
     ]
    }
   ],
   "source": [
    "for expected_slice1, expected_slice2 in res: print(expected_slice1, '\\t',expected_slice2)"
   ]
  },
  {
   "cell_type": "code",
   "execution_count": 16,
   "metadata": {},
   "outputs": [
    {
     "name": "stdout",
     "output_type": "stream",
     "text": [
      "[0.582 0.61  0.503 0.507 0.542 0.471 0.498 0.49  0.487]\n",
      "[0.582 0.61  0.503 0.507 0.542 0.471 0.498 0.49  0.487]\n",
      "[0.571 0.605 0.499 0.502 0.541 0.468 0.5   0.484 0.483]\n",
      "[0.571 0.605 0.499 0.502 0.541 0.468 0.5   0.484 0.483]\n",
      "[0.573 0.607 0.502 0.504 0.54  0.469 0.5   0.486 0.483]\n",
      "\n",
      "[0.582 0.61  0.503 0.507 0.542 0.471 0.498 0.49  0.487]\n",
      "[0.582 0.61  0.503 0.507 0.542 0.471 0.498 0.49  0.487]\n",
      "[0.571 0.605 0.499 0.502 0.541 0.468 0.5   0.484 0.483]\n",
      "[0.571 0.605 0.499 0.502 0.541 0.468 0.5   0.484 0.483]\n",
      "[0.573 0.607 0.502 0.504 0.54  0.469 0.5   0.486 0.483]\n"
     ]
    }
   ],
   "source": [
    "for expected_slice1, _ in res: print(expected_slice1)\n",
    "print()\n",
    "for _, expected_slice2 in res: print(expected_slice2)"
   ]
  },
  {
   "cell_type": "code",
   "execution_count": null,
   "metadata": {},
   "outputs": [],
   "source": []
  },
  {
   "cell_type": "code",
   "execution_count": null,
   "metadata": {},
   "outputs": [],
   "source": []
  },
  {
   "cell_type": "code",
   "execution_count": null,
   "metadata": {},
   "outputs": [],
   "source": []
  }
 ],
 "metadata": {
  "kernelspec": {
   "display_name": "Python 3 (ipykernel)",
   "language": "python",
   "name": "python3"
  },
  "language_info": {
   "codemirror_mode": {
    "name": "ipython",
    "version": 3
   },
   "file_extension": ".py",
   "mimetype": "text/x-python",
   "name": "python",
   "nbconvert_exporter": "python",
   "pygments_lexer": "ipython3",
   "version": "3.10.11"
  }
 },
 "nbformat": 4,
 "nbformat_minor": 4
}
